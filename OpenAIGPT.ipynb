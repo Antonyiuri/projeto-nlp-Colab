{
  "nbformat": 4,
  "nbformat_minor": 0,
  "metadata": {
    "colab": {
      "provenance": [],
      "authorship_tag": "ABX9TyM7Jdx90pBF2Kn4CplgDHVD",
      "include_colab_link": true
    },
    "kernelspec": {
      "name": "python3",
      "display_name": "Python 3"
    },
    "language_info": {
      "name": "python"
    }
  },
  "cells": [
    {
      "cell_type": "markdown",
      "metadata": {
        "id": "view-in-github",
        "colab_type": "text"
      },
      "source": [
        "<a href=\"https://colab.research.google.com/github/Antonyiuri/projeto-nlp-Colab/blob/main/OpenAIGPT.ipynb\" target=\"_parent\"><img src=\"https://colab.research.google.com/assets/colab-badge.svg\" alt=\"Open In Colab\"/></a>"
      ]
    },
    {
      "cell_type": "code",
      "execution_count": null,
      "metadata": {
        "id": "dHQo9GGZLGFO"
      },
      "outputs": [],
      "source": [
        "!pip install openai"
      ]
    },
    {
      "cell_type": "code",
      "source": [
        "from openai import OpenAI"
      ],
      "metadata": {
        "id": "Gy5C12FDLXt3"
      },
      "execution_count": 2,
      "outputs": []
    },
    {
      "cell_type": "code",
      "source": [
        "client = OpenAI(api_key=\"KEY\")\n",
        "model = \"gpt-3.5-turbo\""
      ],
      "metadata": {
        "id": "Wizj7JgkLZRT"
      },
      "execution_count": 3,
      "outputs": []
    },
    {
      "cell_type": "code",
      "source": [
        "response = client.chat.completions.create(\n",
        "    model = model,\n",
        "    messages = [\n",
        "        {\"role\":\"user\",\"content\":\"Tell me a Joke\"}\n",
        "    ]\n",
        ")"
      ],
      "metadata": {
        "id": "j8NFtRkuRVhw"
      },
      "execution_count": null,
      "outputs": []
    },
    {
      "cell_type": "code",
      "source": [
        "print(response)"
      ],
      "metadata": {
        "id": "TIwVG4lBOeAD"
      },
      "execution_count": null,
      "outputs": []
    },
    {
      "cell_type": "code",
      "source": [
        "message = response.choices[0].message.content\n",
        "print(message)"
      ],
      "metadata": {
        "id": "QSrvdonkOvxo"
      },
      "execution_count": null,
      "outputs": []
    },
    {
      "cell_type": "code",
      "source": [
        "response = client.chat.completions.create(\n",
        "    model = model,\n",
        "    messages = [\n",
        "        {\"role\":\"system\",\"content\":\"You are a fictional investment assistant.\"},\n",
        "        {\"role\":\"user\",\"content\":\"What is the best low-risk investment you recommend for this year?\"}\n",
        "    ]\n",
        ")"
      ],
      "metadata": {
        "id": "nstASd6HOyCY"
      },
      "execution_count": null,
      "outputs": []
    },
    {
      "cell_type": "code",
      "source": [
        "message = response.choices[0].message.content\n",
        "print(message)"
      ],
      "metadata": {
        "id": "uzkVDiWYO0l1"
      },
      "execution_count": null,
      "outputs": []
    },
    {
      "cell_type": "code",
      "source": [
        "response = client.chat.completions.create(\n",
        "    model = model,\n",
        "    messages = [\n",
        "        {\"role\":\"assistant\",\"content\":message},\n",
        "        {\"role\":\"user\",\"content\":\"What are the risks related to Treasury securities?\"}\n",
        "    ]\n",
        ")"
      ],
      "metadata": {
        "id": "z5muXOL5O2ZB"
      },
      "execution_count": null,
      "outputs": []
    },
    {
      "cell_type": "code",
      "source": [
        "message = response.choices[0].message.content\n",
        "print(message)"
      ],
      "metadata": {
        "id": "wkmlLediO45t"
      },
      "execution_count": null,
      "outputs": []
    },
    {
      "cell_type": "code",
      "source": [],
      "metadata": {
        "id": "5TOkaFiYO7f0"
      },
      "execution_count": null,
      "outputs": []
    }
  ]
}