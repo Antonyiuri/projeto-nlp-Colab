{
  "nbformat": 4,
  "nbformat_minor": 0,
  "metadata": {
    "colab": {
      "provenance": [],
      "authorship_tag": "ABX9TyO8TsXya01SffcXJu+0md43",
      "include_colab_link": true
    },
    "kernelspec": {
      "name": "python3",
      "display_name": "Python 3"
    },
    "language_info": {
      "name": "python"
    }
  },
  "cells": [
    {
      "cell_type": "markdown",
      "metadata": {
        "id": "view-in-github",
        "colab_type": "text"
      },
      "source": [
        "<a href=\"https://colab.research.google.com/github/Antonyiuri/projeto-nlp-Colab/blob/main/BERTopic.ipynb\" target=\"_parent\"><img src=\"https://colab.research.google.com/assets/colab-badge.svg\" alt=\"Open In Colab\"/></a>"
      ]
    },
    {
      "cell_type": "code",
      "execution_count": null,
      "metadata": {
        "id": "ufHBc0_Ra1Ok"
      },
      "outputs": [],
      "source": [
        "from google.colab import files\n",
        "from zipfile import ZipFile\n",
        "\n",
        "import nltk\n",
        "from nltk.tokenize import sent_tokenize\n",
        "from nltk.corpus import stopwords\n",
        "nltk.download(\"punkt\")\n",
        "nltk.download(\"stopwords\")"
      ]
    },
    {
      "cell_type": "code",
      "source": [
        "!pip install BERTopic\n",
        "!pip install sentence-transformers"
      ],
      "metadata": {
        "id": "QKP8atJva4VN"
      },
      "execution_count": null,
      "outputs": []
    },
    {
      "cell_type": "code",
      "source": [
        "from bertopic import BERTopic\n",
        "from sklearn.feature_extraction.text import CountVectorizer\n",
        "from sentence_transformers import SentenceTransformer"
      ],
      "metadata": {
        "id": "14bQow0Sa5_z"
      },
      "execution_count": null,
      "outputs": []
    },
    {
      "cell_type": "code",
      "source": [
        "files.upload()"
      ],
      "metadata": {
        "id": "iePcySJxa8qI"
      },
      "execution_count": null,
      "outputs": []
    },
    {
      "cell_type": "code",
      "source": [
        "zip = ZipFile(\"documentos.zip\")\n",
        "zip.extractall()"
      ],
      "metadata": {
        "id": "Jx9VmY48a9Qj"
      },
      "execution_count": null,
      "outputs": []
    },
    {
      "cell_type": "code",
      "source": [
        "import glob\n",
        "dados = []\n",
        "dir = \"/content/documentos/\"\n",
        "for arquivo in glob.iglob(dir + '*.txt', recursive=False):\n",
        "  meuarquivo = open(arquivo, \"r\", encoding=\"utf8\")\n",
        "  content = meuarquivo.read()\n",
        "  dados.append(content)\n",
        "  meuarquivo.close()"
      ],
      "metadata": {
        "id": "5XSvhKYka-rv"
      },
      "execution_count": null,
      "outputs": []
    },
    {
      "cell_type": "code",
      "source": [
        "len(dados)"
      ],
      "metadata": {
        "id": "_E7rGCOBbAZb"
      },
      "execution_count": null,
      "outputs": []
    },
    {
      "cell_type": "code",
      "source": [
        "sentencas = []\n",
        "for item in dados:\n",
        "  for t in sent_tokenize(item):\n",
        "    sentencas.append(t)"
      ],
      "metadata": {
        "id": "2XG8KrWXbCDg"
      },
      "execution_count": null,
      "outputs": []
    },
    {
      "cell_type": "code",
      "source": [
        "len(sentencas)"
      ],
      "metadata": {
        "id": "bFzJTKk8bI93"
      },
      "execution_count": null,
      "outputs": []
    },
    {
      "cell_type": "code",
      "source": [
        "sentencas[300]"
      ],
      "metadata": {
        "id": "N39mBW2LbJy5"
      },
      "execution_count": null,
      "outputs": []
    },
    {
      "cell_type": "code",
      "source": [
        "modelo = BERTopic(language=\"portuguese\", verbose=True, embedding_model=\"xlm-r-bert-base-nli-stsb-mean-tokens\",\n",
        "                  top_n_words=15, min_topic_size=10, nr_topics=20,\n",
        "                  vectorizer_model=CountVectorizer(ngram_range=(1,3),\n",
        "                   stop_words=stopwords.words(\"portuguese\"), min_df=10))\n"
      ],
      "metadata": {
        "id": "3do0RJ5fbM1S"
      },
      "execution_count": null,
      "outputs": []
    },
    {
      "cell_type": "code",
      "source": [
        "%%time\n",
        "topicos, probabilidades = modelo.fit_transform(sentencas)"
      ],
      "metadata": {
        "id": "XL60ha8ObQYF"
      },
      "execution_count": null,
      "outputs": []
    },
    {
      "cell_type": "code",
      "source": [
        "frequencia = modelo.get_topic_info()\n",
        "frequencia.head(10)"
      ],
      "metadata": {
        "id": "PVmy-hd8bSuu"
      },
      "execution_count": null,
      "outputs": []
    },
    {
      "cell_type": "code",
      "source": [
        "modelo.get_topic(7)"
      ],
      "metadata": {
        "id": "ypGcUL_6bV-f"
      },
      "execution_count": null,
      "outputs": []
    },
    {
      "cell_type": "code",
      "source": [
        "#modelo.visualize_barchart(n_words=15,top_n_topics=20 )\n",
        "modelo.visualize_barchart(n_words=10,topics=[0,3] )"
      ],
      "metadata": {
        "id": "lSKSChtObWw7"
      },
      "execution_count": null,
      "outputs": []
    },
    {
      "cell_type": "code",
      "source": [
        "modelo.visualize_hierarchy(top_n_topics=15)"
      ],
      "metadata": {
        "id": "qpIlRZwBba4u"
      },
      "execution_count": null,
      "outputs": []
    },
    {
      "cell_type": "code",
      "source": [
        "modelo.visualize_heatmap(n_clusters=15)"
      ],
      "metadata": {
        "id": "lXWpJgQubcvl"
      },
      "execution_count": null,
      "outputs": []
    }
  ]
}